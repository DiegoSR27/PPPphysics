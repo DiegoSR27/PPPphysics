{
 "cells": [
  {
   "cell_type": "code",
   "execution_count": 5,
   "id": "b91351ef-6da1-452b-be0c-3fb28098c490",
   "metadata": {},
   "outputs": [
    {
     "name": "stdin",
     "output_type": "stream",
     "text": [
      "Escoge un número del 1 al 100:  6\n"
     ]
    },
    {
     "name": "stdout",
     "output_type": "stream",
     "text": [
      "Lo siento, no es el número correcto. Inténtalo de nuevo.\n"
     ]
    },
    {
     "ename": "KeyboardInterrupt",
     "evalue": "Interrupted by user",
     "output_type": "error",
     "traceback": [
      "\u001b[1;31m---------------------------------------------------------------------------\u001b[0m",
      "\u001b[1;31mKeyboardInterrupt\u001b[0m                         Traceback (most recent call last)",
      "Cell \u001b[1;32mIn[5], line 11\u001b[0m\n\u001b[0;32m      7\u001b[0m intentos \u001b[38;5;241m=\u001b[39m \u001b[38;5;241m0\u001b[39m\n\u001b[0;32m      9\u001b[0m \u001b[38;5;28;01mwhile\u001b[39;00m \u001b[38;5;28;01mTrue\u001b[39;00m:\n\u001b[0;32m     10\u001b[0m     \u001b[38;5;66;03m# El usuario elige un número\u001b[39;00m\n\u001b[1;32m---> 11\u001b[0m     numero_usuario \u001b[38;5;241m=\u001b[39m \u001b[38;5;28mint\u001b[39m(\u001b[38;5;28minput\u001b[39m(\u001b[38;5;124m\"\u001b[39m\u001b[38;5;124mEscoge un número del 1 al 100: \u001b[39m\u001b[38;5;124m\"\u001b[39m))\n\u001b[0;32m     13\u001b[0m     \u001b[38;5;66;03m# Incrementar el contador de intentos\u001b[39;00m\n\u001b[0;32m     14\u001b[0m     intentos \u001b[38;5;241m+\u001b[39m\u001b[38;5;241m=\u001b[39m \u001b[38;5;241m1\u001b[39m\n",
      "File \u001b[1;32m~\\anaconda3\\Lib\\site-packages\\ipykernel\\kernelbase.py:1262\u001b[0m, in \u001b[0;36mKernel.raw_input\u001b[1;34m(self, prompt)\u001b[0m\n\u001b[0;32m   1260\u001b[0m     msg \u001b[38;5;241m=\u001b[39m \u001b[38;5;124m\"\u001b[39m\u001b[38;5;124mraw_input was called, but this frontend does not support input requests.\u001b[39m\u001b[38;5;124m\"\u001b[39m\n\u001b[0;32m   1261\u001b[0m     \u001b[38;5;28;01mraise\u001b[39;00m StdinNotImplementedError(msg)\n\u001b[1;32m-> 1262\u001b[0m \u001b[38;5;28;01mreturn\u001b[39;00m \u001b[38;5;28mself\u001b[39m\u001b[38;5;241m.\u001b[39m_input_request(\n\u001b[0;32m   1263\u001b[0m     \u001b[38;5;28mstr\u001b[39m(prompt),\n\u001b[0;32m   1264\u001b[0m     \u001b[38;5;28mself\u001b[39m\u001b[38;5;241m.\u001b[39m_parent_ident[\u001b[38;5;124m\"\u001b[39m\u001b[38;5;124mshell\u001b[39m\u001b[38;5;124m\"\u001b[39m],\n\u001b[0;32m   1265\u001b[0m     \u001b[38;5;28mself\u001b[39m\u001b[38;5;241m.\u001b[39mget_parent(\u001b[38;5;124m\"\u001b[39m\u001b[38;5;124mshell\u001b[39m\u001b[38;5;124m\"\u001b[39m),\n\u001b[0;32m   1266\u001b[0m     password\u001b[38;5;241m=\u001b[39m\u001b[38;5;28;01mFalse\u001b[39;00m,\n\u001b[0;32m   1267\u001b[0m )\n",
      "File \u001b[1;32m~\\anaconda3\\Lib\\site-packages\\ipykernel\\kernelbase.py:1305\u001b[0m, in \u001b[0;36mKernel._input_request\u001b[1;34m(self, prompt, ident, parent, password)\u001b[0m\n\u001b[0;32m   1302\u001b[0m \u001b[38;5;28;01mexcept\u001b[39;00m \u001b[38;5;167;01mKeyboardInterrupt\u001b[39;00m:\n\u001b[0;32m   1303\u001b[0m     \u001b[38;5;66;03m# re-raise KeyboardInterrupt, to truncate traceback\u001b[39;00m\n\u001b[0;32m   1304\u001b[0m     msg \u001b[38;5;241m=\u001b[39m \u001b[38;5;124m\"\u001b[39m\u001b[38;5;124mInterrupted by user\u001b[39m\u001b[38;5;124m\"\u001b[39m\n\u001b[1;32m-> 1305\u001b[0m     \u001b[38;5;28;01mraise\u001b[39;00m \u001b[38;5;167;01mKeyboardInterrupt\u001b[39;00m(msg) \u001b[38;5;28;01mfrom\u001b[39;00m \u001b[38;5;28;01mNone\u001b[39;00m\n\u001b[0;32m   1306\u001b[0m \u001b[38;5;28;01mexcept\u001b[39;00m \u001b[38;5;167;01mException\u001b[39;00m:\n\u001b[0;32m   1307\u001b[0m     \u001b[38;5;28mself\u001b[39m\u001b[38;5;241m.\u001b[39mlog\u001b[38;5;241m.\u001b[39mwarning(\u001b[38;5;124m\"\u001b[39m\u001b[38;5;124mInvalid Message:\u001b[39m\u001b[38;5;124m\"\u001b[39m, exc_info\u001b[38;5;241m=\u001b[39m\u001b[38;5;28;01mTrue\u001b[39;00m)\n",
      "\u001b[1;31mKeyboardInterrupt\u001b[0m: Interrupted by user"
     ]
    }
   ],
   "source": [
    "import random\n",
    "\n",
    "# La computadora escoge un número del 1 al 100\n",
    "numero_computadora = random.randint(1, 100)\n",
    "\n",
    "# Inicializar el contador de intentos\n",
    "intentos = 0\n",
    "\n",
    "while True:\n",
    "    # El usuario elige un número\n",
    "    numero_usuario = int(input(\"Escoge un número del 1 al 100: \"))\n",
    "    \n",
    "    # Incrementar el contador de intentos\n",
    "    intentos += 1\n",
    "    \n",
    "    # Verificar si los números son iguales\n",
    "    if numero_usuario == numero_computadora:\n",
    "        print(f\"¡Felicidades! Has adivinado el número en {intentos} intentos.\")\n",
    "        break\n",
    "    else:\n",
    "        # Comparar el número del usuario con el de la computadora\n",
    "        diferencia = abs(numero_usuario - numero_computadora)\n",
    "        if diferencia <= 10:\n",
    "            print(\"Estás cerca.\")\n",
    "        else:\n",
    "            print(\"Estás lejos.\")\n",
    "\n",
    "# Mostrar el número correcto al final\n",
    "print(f\"El número correcto era {numero_computadora}.\")\n"
   ]
  },
  {
   "cell_type": "code",
   "execution_count": 4,
   "id": "c3f1387a-4f69-4783-9ab7-84e015831bc3",
   "metadata": {},
   "outputs": [
    {
     "name": "stdin",
     "output_type": "stream",
     "text": [
      "Escoge un número del 1 al 100:  7\n"
     ]
    },
    {
     "name": "stdout",
     "output_type": "stream",
     "text": [
      "Estás lejos.\n"
     ]
    },
    {
     "name": "stdin",
     "output_type": "stream",
     "text": [
      "Escoge un número del 1 al 100:  4\n"
     ]
    },
    {
     "name": "stdout",
     "output_type": "stream",
     "text": [
      "Estás lejos.\n"
     ]
    },
    {
     "name": "stdin",
     "output_type": "stream",
     "text": [
      "Escoge un número del 1 al 100:  3\n"
     ]
    },
    {
     "name": "stdout",
     "output_type": "stream",
     "text": [
      "Estás lejos.\n"
     ]
    },
    {
     "name": "stdin",
     "output_type": "stream",
     "text": [
      "Escoge un número del 1 al 100:  7\n"
     ]
    },
    {
     "name": "stdout",
     "output_type": "stream",
     "text": [
      "Estás lejos.\n"
     ]
    },
    {
     "name": "stdin",
     "output_type": "stream",
     "text": [
      "Escoge un número del 1 al 100:  59\n"
     ]
    },
    {
     "name": "stdout",
     "output_type": "stream",
     "text": [
      "Estás lejos.\n"
     ]
    },
    {
     "name": "stdin",
     "output_type": "stream",
     "text": [
      "Escoge un número del 1 al 100:  70\n"
     ]
    },
    {
     "name": "stdout",
     "output_type": "stream",
     "text": [
      "Estás cerca.\n"
     ]
    },
    {
     "name": "stdin",
     "output_type": "stream",
     "text": [
      "Escoge un número del 1 al 100:  76\n"
     ]
    },
    {
     "name": "stdout",
     "output_type": "stream",
     "text": [
      "Estás cerca.\n"
     ]
    },
    {
     "name": "stdin",
     "output_type": "stream",
     "text": [
      "Escoge un número del 1 al 100:  90\n"
     ]
    },
    {
     "name": "stdout",
     "output_type": "stream",
     "text": [
      "Estás lejos.\n"
     ]
    },
    {
     "name": "stdin",
     "output_type": "stream",
     "text": [
      "Escoge un número del 1 al 100:  80\n"
     ]
    },
    {
     "name": "stdout",
     "output_type": "stream",
     "text": [
      "Estás cerca.\n"
     ]
    },
    {
     "name": "stdin",
     "output_type": "stream",
     "text": [
      "Escoge un número del 1 al 100:  85\n"
     ]
    },
    {
     "name": "stdout",
     "output_type": "stream",
     "text": [
      "Estás lejos.\n"
     ]
    },
    {
     "name": "stdin",
     "output_type": "stream",
     "text": [
      "Escoge un número del 1 al 100:  75\n"
     ]
    },
    {
     "name": "stdout",
     "output_type": "stream",
     "text": [
      "Estás cerca.\n"
     ]
    },
    {
     "name": "stdin",
     "output_type": "stream",
     "text": [
      "Escoge un número del 1 al 100:  70\n"
     ]
    },
    {
     "name": "stdout",
     "output_type": "stream",
     "text": [
      "Estás cerca.\n"
     ]
    },
    {
     "name": "stdin",
     "output_type": "stream",
     "text": [
      "Escoge un número del 1 al 100:  \n"
     ]
    },
    {
     "ename": "ValueError",
     "evalue": "invalid literal for int() with base 10: ''",
     "output_type": "error",
     "traceback": [
      "\u001b[1;31m---------------------------------------------------------------------------\u001b[0m",
      "\u001b[1;31mValueError\u001b[0m                                Traceback (most recent call last)",
      "Cell \u001b[1;32mIn[4], line 15\u001b[0m\n\u001b[0;32m     11\u001b[0m inicio_tiempo \u001b[38;5;241m=\u001b[39m time\u001b[38;5;241m.\u001b[39mtime()\n\u001b[0;32m     13\u001b[0m \u001b[38;5;28;01mwhile\u001b[39;00m \u001b[38;5;28;01mTrue\u001b[39;00m:\n\u001b[0;32m     14\u001b[0m     \u001b[38;5;66;03m# El usuario elige un número\u001b[39;00m\n\u001b[1;32m---> 15\u001b[0m     numero_usuario \u001b[38;5;241m=\u001b[39m \u001b[38;5;28mint\u001b[39m(\u001b[38;5;28minput\u001b[39m(\u001b[38;5;124m\"\u001b[39m\u001b[38;5;124mEscoge un número del 1 al 100: \u001b[39m\u001b[38;5;124m\"\u001b[39m))\n\u001b[0;32m     17\u001b[0m     \u001b[38;5;66;03m# Incrementar el contador de intentos\u001b[39;00m\n\u001b[0;32m     18\u001b[0m     intentos \u001b[38;5;241m+\u001b[39m\u001b[38;5;241m=\u001b[39m \u001b[38;5;241m1\u001b[39m\n",
      "\u001b[1;31mValueError\u001b[0m: invalid literal for int() with base 10: ''"
     ]
    }
   ],
   "source": [
    "import random\n",
    "import time\n",
    "\n",
    "# La computadora escoge un número del 1 al 100\n",
    "numero_computadora = random.randint(1, 100)\n",
    "\n",
    "# Inicializar el contador de intentos\n",
    "intentos = 0\n",
    "\n",
    "# Iniciar el temporizador\n",
    "inicio_tiempo = time.time()\n",
    "\n",
    "while True:\n",
    "    # El usuario elige un número\n",
    "    numero_usuario = int(input(\"Escoge un número del 1 al 100: \"))\n",
    "    \n",
    "    # Incrementar el contador de intentos\n",
    "    intentos += 1\n",
    "    \n",
    "    # Verificar si los números son iguales\n",
    "    if numero_usuario == numero_computadora:\n",
    "        # Detener el temporizador\n",
    "        fin_tiempo = time.time()\n",
    "        tiempo_total = fin_tiempo - inicio_tiempo\n",
    "        print(f\"¡Felicidades! Has adivinado el número en {intentos} intentos y {tiempo_total:.2f} segundos.\")\n",
    "        break\n",
    "    else:\n",
    "        # Comparar el número del usuario con el de la computadora\n",
    "        diferencia = abs(numero_usuario - numero_computadora)\n",
    "        if diferencia <= 10:\n",
    "            print(\"Estás cerca.\")\n",
    "        else:\n",
    "            print(\"Estás lejos.\")\n",
    "\n",
    "# Mostrar el número correcto al final\n",
    "print(f\"El número correcto era {numero_computadora}.\")\n",
    "\n"
   ]
  },
  {
   "cell_type": "code",
   "execution_count": null,
   "id": "14aad61c-3860-42dc-86cf-75ec01b181bb",
   "metadata": {},
   "outputs": [],
   "source": [
    "import random\n",
    "import time\n",
    "\n",
    "#Generador de numeros\n",
    "numero_computadora = random.randint(1, 100)\n",
    "\n",
    "#Intentos y limite de intentos\n",
    "intentos = 0\n",
    "limite_intentos = 10  \n",
    "\n",
    "#Temporizador \n",
    "inicio_tiempo = time.time()\n",
    "\n",
    "#si el intento es menor que 10 sigue el juego \n",
    "while intentos < limite_intentos:\n",
    "    #El jugador escoge el numero \n",
    "    numero_usuario = int(input(\"Escoge un número del 1 al 100: \"))\n",
    "    \n",
    "    #por cada intento se suma un intento \n",
    "    intentos += 1\n",
    "    \n",
    "    #Si el jugador adivina se acaba el juego \n",
    "    if numero_usuario == numero_computadora:\n",
    "        fin_tiempo = time.time()\n",
    "        tiempo_total = fin_tiempo - inicio_tiempo\n",
    "        print(f\"¡Felicidades! Has adivinado el número en {intentos} intentos y {tiempo_total:.2f} segundos.\")\n",
    "        break\n",
    "    else:\n",
    "        #Si el jugador no le adivina el juego sigue\n",
    "        diferencia = abs(numero_usuario - numero_computadora)\n",
    "        #saca la diferencia entre ambos numeros y si esta dentro de un rango de 10 muestra si esta cerca o lejos \n",
    "        if diferencia <= 10:\n",
    "            print(\"Estás cerca.\")\n",
    "        else:\n",
    "            print(\"Estás lejos.\")\n",
    "else:\n",
    "    print(f\"Lo siento, has alcanzado el límite de {limite_intentos} intentos. El número correcto era {numero_computadora}.\")\n",
    "#si se acaban los intentos aparecera este mensaje ^^\n",
    "\n"
   ]
  },
  {
   "cell_type": "code",
   "execution_count": null,
   "id": "e94fe499-4050-4b0a-a7fe-9f924793f037",
   "metadata": {},
   "outputs": [],
   "source": []
  },
  {
   "cell_type": "code",
   "execution_count": null,
   "id": "10639a6e-ca87-4bce-a67f-a116ab117632",
   "metadata": {},
   "outputs": [],
   "source": []
  }
 ],
 "metadata": {
  "kernelspec": {
   "display_name": "Python [conda env:base] *",
   "language": "python",
   "name": "conda-base-py"
  },
  "language_info": {
   "codemirror_mode": {
    "name": "ipython",
    "version": 3
   },
   "file_extension": ".py",
   "mimetype": "text/x-python",
   "name": "python",
   "nbconvert_exporter": "python",
   "pygments_lexer": "ipython3",
   "version": "3.12.7"
  }
 },
 "nbformat": 4,
 "nbformat_minor": 5
}
